{
 "cells": [
  {
   "cell_type": "code",
   "execution_count": 5,
   "metadata": {
    "collapsed": true
   },
   "outputs": [],
   "source": [
    "import pandas as pd\n",
    "import sys\n",
    "from sklearn import preprocessing\n",
    "from sklearn.decomposition import PCA\n",
    "import numpy as np\n",
    "%matplotlib inline\n",
    "from matplotlib import pyplot as plt\n",
    "import gzip"
   ]
  },
  {
   "cell_type": "code",
   "execution_count": 6,
   "metadata": {},
   "outputs": [
    {
     "data": {
      "text/plain": [
       "(3219, 23)"
      ]
     },
     "execution_count": 6,
     "metadata": {},
     "output_type": "execute_result"
    }
   ],
   "source": [
    "housing = pd.read_csv(\"moredata.csv\")\n",
    "housing.shape"
   ]
  },
  {
   "cell_type": "code",
   "execution_count": 7,
   "metadata": {},
   "outputs": [
    {
     "data": {
      "text/html": [
       "<div>\n",
       "<style>\n",
       "    .dataframe thead tr:only-child th {\n",
       "        text-align: right;\n",
       "    }\n",
       "\n",
       "    .dataframe thead th {\n",
       "        text-align: left;\n",
       "    }\n",
       "\n",
       "    .dataframe tbody tr th {\n",
       "        vertical-align: top;\n",
       "    }\n",
       "</style>\n",
       "<table border=\"1\" class=\"dataframe\">\n",
       "  <thead>\n",
       "    <tr style=\"text-align: right;\">\n",
       "      <th></th>\n",
       "      <th>P001001</th>\n",
       "      <th>P006001</th>\n",
       "      <th>P006002</th>\n",
       "      <th>P006003</th>\n",
       "      <th>P006005</th>\n",
       "      <th>P006008</th>\n",
       "      <th>P007010</th>\n",
       "      <th>H011001</th>\n",
       "      <th>H011002</th>\n",
       "      <th>H011003</th>\n",
       "      <th>...</th>\n",
       "      <th>P148B009</th>\n",
       "      <th>P148D017</th>\n",
       "      <th>PCT038016</th>\n",
       "      <th>PCT038017</th>\n",
       "      <th>PCT038018</th>\n",
       "      <th>PCT038019</th>\n",
       "      <th>NAME</th>\n",
       "      <th>state</th>\n",
       "      <th>county</th>\n",
       "      <th>Unnamed: 22</th>\n",
       "    </tr>\n",
       "  </thead>\n",
       "  <tbody>\n",
       "    <tr>\n",
       "      <th>0</th>\n",
       "      <td>43671</td>\n",
       "      <td>43671</td>\n",
       "      <td>34960</td>\n",
       "      <td>7481</td>\n",
       "      <td>265</td>\n",
       "      <td>525</td>\n",
       "      <td>394</td>\n",
       "      <td>16003</td>\n",
       "      <td>12935</td>\n",
       "      <td>10761</td>\n",
       "      <td>...</td>\n",
       "      <td>32</td>\n",
       "      <td>0</td>\n",
       "      <td>240</td>\n",
       "      <td>53</td>\n",
       "      <td>53</td>\n",
       "      <td>44</td>\n",
       "      <td>Autauga County</td>\n",
       "      <td>1</td>\n",
       "      <td>1</td>\n",
       "      <td>NaN</td>\n",
       "    </tr>\n",
       "    <tr>\n",
       "      <th>1</th>\n",
       "      <td>140415</td>\n",
       "      <td>140415</td>\n",
       "      <td>122349</td>\n",
       "      <td>14233</td>\n",
       "      <td>535</td>\n",
       "      <td>1712</td>\n",
       "      <td>2341</td>\n",
       "      <td>55336</td>\n",
       "      <td>44036</td>\n",
       "      <td>39807</td>\n",
       "      <td>...</td>\n",
       "      <td>60</td>\n",
       "      <td>38</td>\n",
       "      <td>709</td>\n",
       "      <td>316</td>\n",
       "      <td>386</td>\n",
       "      <td>433</td>\n",
       "      <td>Baldwin County</td>\n",
       "      <td>1</td>\n",
       "      <td>3</td>\n",
       "      <td>NaN</td>\n",
       "    </tr>\n",
       "    <tr>\n",
       "      <th>2</th>\n",
       "      <td>29038</td>\n",
       "      <td>29038</td>\n",
       "      <td>14909</td>\n",
       "      <td>13487</td>\n",
       "      <td>30</td>\n",
       "      <td>219</td>\n",
       "      <td>509</td>\n",
       "      <td>10409</td>\n",
       "      <td>7615</td>\n",
       "      <td>4720</td>\n",
       "      <td>...</td>\n",
       "      <td>9</td>\n",
       "      <td>0</td>\n",
       "      <td>79</td>\n",
       "      <td>23</td>\n",
       "      <td>43</td>\n",
       "      <td>30</td>\n",
       "      <td>Barbour County</td>\n",
       "      <td>1</td>\n",
       "      <td>5</td>\n",
       "      <td>NaN</td>\n",
       "    </tr>\n",
       "    <tr>\n",
       "      <th>3</th>\n",
       "      <td>20826</td>\n",
       "      <td>20826</td>\n",
       "      <td>15928</td>\n",
       "      <td>4632</td>\n",
       "      <td>12</td>\n",
       "      <td>119</td>\n",
       "      <td>181</td>\n",
       "      <td>7421</td>\n",
       "      <td>5951</td>\n",
       "      <td>4958</td>\n",
       "      <td>...</td>\n",
       "      <td>2</td>\n",
       "      <td>0</td>\n",
       "      <td>50</td>\n",
       "      <td>6</td>\n",
       "      <td>8</td>\n",
       "      <td>6</td>\n",
       "      <td>Bibb County</td>\n",
       "      <td>1</td>\n",
       "      <td>7</td>\n",
       "      <td>NaN</td>\n",
       "    </tr>\n",
       "    <tr>\n",
       "      <th>4</th>\n",
       "      <td>51024</td>\n",
       "      <td>51024</td>\n",
       "      <td>48098</td>\n",
       "      <td>563</td>\n",
       "      <td>114</td>\n",
       "      <td>552</td>\n",
       "      <td>2629</td>\n",
       "      <td>19265</td>\n",
       "      <td>16084</td>\n",
       "      <td>15625</td>\n",
       "      <td>...</td>\n",
       "      <td>0</td>\n",
       "      <td>7</td>\n",
       "      <td>177</td>\n",
       "      <td>59</td>\n",
       "      <td>41</td>\n",
       "      <td>15</td>\n",
       "      <td>Blount County</td>\n",
       "      <td>1</td>\n",
       "      <td>9</td>\n",
       "      <td>NaN</td>\n",
       "    </tr>\n",
       "  </tbody>\n",
       "</table>\n",
       "<p>5 rows × 23 columns</p>\n",
       "</div>"
      ],
      "text/plain": [
       "   P001001  P006001  P006002  P006003  P006005  P006008  P007010  H011001  \\\n",
       "0    43671    43671    34960     7481      265      525      394    16003   \n",
       "1   140415   140415   122349    14233      535     1712     2341    55336   \n",
       "2    29038    29038    14909    13487       30      219      509    10409   \n",
       "3    20826    20826    15928     4632       12      119      181     7421   \n",
       "4    51024    51024    48098      563      114      552     2629    19265   \n",
       "\n",
       "   H011002  H011003     ...      P148B009  P148D017  PCT038016  PCT038017  \\\n",
       "0    12935    10761     ...            32         0        240         53   \n",
       "1    44036    39807     ...            60        38        709        316   \n",
       "2     7615     4720     ...             9         0         79         23   \n",
       "3     5951     4958     ...             2         0         50          6   \n",
       "4    16084    15625     ...             0         7        177         59   \n",
       "\n",
       "   PCT038018  PCT038019            NAME  state  county Unnamed: 22  \n",
       "0         53         44  Autauga County      1       1         NaN  \n",
       "1        386        433  Baldwin County      1       3         NaN  \n",
       "2         43         30  Barbour County      1       5         NaN  \n",
       "3          8          6     Bibb County      1       7         NaN  \n",
       "4         41         15   Blount County      1       9         NaN  \n",
       "\n",
       "[5 rows x 23 columns]"
      ]
     },
     "execution_count": 7,
     "metadata": {},
     "output_type": "execute_result"
    }
   ],
   "source": [
    "housing.head(5)"
   ]
  },
  {
   "cell_type": "code",
   "execution_count": 8,
   "metadata": {
    "collapsed": true
   },
   "outputs": [],
   "source": [
    "# County, state data\n",
    "# Create 17 column data frame to select non-white race, income > 100K, married with children under 18\n",
    "# age > 25, male black and graduate/prof degree\n",
    "# age > 25, female Asian and graduate/prof degree\n",
    "#Black/Asian/Biracial homeowner \n",
    "\n",
    "housing_edit = housing[['P001001', 'P006001', 'P006002', 'P006003', 'P006005', 'P006008', 'P007010', 'H011001', 'H011004', 'H011006', 'H011009', 'P148B009', 'P148D017','PCT038016','PCT038017','PCT038018','PCT038019']]\n",
    "# Perform mean normalization and feature scaling\n",
    "scaler = preprocessing.StandardScaler()"
   ]
  },
  {
   "cell_type": "code",
   "execution_count": 11,
   "metadata": {},
   "outputs": [
    {
     "data": {
      "text/plain": [
       "array([[-0.15545879, -0.15545879, -0.17981586, ..., -0.20080281,\n",
       "        -0.17982451, -0.17214316],\n",
       "       [ 0.17922229,  0.17922229,  0.31665408, ...,  0.0114596 ,\n",
       "         0.09955948,  0.09287225],\n",
       "       [-0.20608093, -0.20608093, -0.29372858, ..., -0.22501525,\n",
       "        -0.18821442, -0.18168098],\n",
       "       ..., \n",
       "       [-0.20997281, -0.20997281, -0.24727383, ..., -0.24357812,\n",
       "        -0.22429104, -0.19735028],\n",
       "       [-0.17076686, -0.17076686, -0.22612291, ..., -0.24357812,\n",
       "        -0.22429104, -0.19190009],\n",
       "       [-0.1460733 , -0.1460733 , -0.14328607, ..., -0.24357812,\n",
       "        -0.22429104, -0.18781245]])"
      ]
     },
     "execution_count": 11,
     "metadata": {},
     "output_type": "execute_result"
    }
   ],
   "source": [
    "scaled_housing = scaler.fit_transform(housing_edit)\n",
    "scaled_housing"
   ]
  },
  {
   "cell_type": "code",
   "execution_count": 13,
   "metadata": {},
   "outputs": [
    {
     "data": {
      "text/plain": [
       "(17, 17)"
      ]
     },
     "execution_count": 13,
     "metadata": {},
     "output_type": "execute_result"
    }
   ],
   "source": [
    "cov_mat = np.cov(scaled_housing.T)\n",
    "cov_mat.shape"
   ]
  },
  {
   "cell_type": "code",
   "execution_count": 14,
   "metadata": {
    "collapsed": true
   },
   "outputs": [],
   "source": [
    "U, s, V = np.linalg.svd(cov_mat, full_matrices=True)"
   ]
  },
  {
   "cell_type": "code",
   "execution_count": 15,
   "metadata": {
    "collapsed": true
   },
   "outputs": [],
   "source": [
    "pca = PCA(n_components = 2)"
   ]
  },
  {
   "cell_type": "code",
   "execution_count": 16,
   "metadata": {
    "collapsed": true
   },
   "outputs": [],
   "source": [
    "pca_result = pca.fit(scaled_housing).fit_transform(scaled_housing)"
   ]
  },
  {
   "cell_type": "code",
   "execution_count": 17,
   "metadata": {},
   "outputs": [
    {
     "name": "stdout",
     "output_type": "stream",
     "text": [
      "[ 0.81579801  0.08433545]\n"
     ]
    }
   ],
   "source": [
    "print(pca.explained_variance_ratio_)"
   ]
  },
  {
   "cell_type": "code",
   "execution_count": 18,
   "metadata": {},
   "outputs": [
    {
     "name": "stdout",
     "output_type": "stream",
     "text": [
      "[ 211.28869925   67.93444683]\n"
     ]
    }
   ],
   "source": [
    "print(pca.singular_values_) "
   ]
  },
  {
   "cell_type": "code",
   "execution_count": 19,
   "metadata": {},
   "outputs": [
    {
     "data": {
      "text/plain": [
       "(3219, 2)"
      ]
     },
     "execution_count": 19,
     "metadata": {},
     "output_type": "execute_result"
    }
   ],
   "source": [
    "pca_result.shape"
   ]
  },
  {
   "cell_type": "code",
   "execution_count": 20,
   "metadata": {},
   "outputs": [
    {
     "data": {
      "text/plain": [
       "array([[-0.56396257, -0.07160817],\n",
       "       [ 0.24030672, -0.24464069],\n",
       "       [-0.65136859, -0.17705792],\n",
       "       ..., \n",
       "       [-0.59224665,  0.21608542],\n",
       "       [-0.39630637,  0.23221927],\n",
       "       [-0.50409277,  0.16924134]])"
      ]
     },
     "execution_count": 20,
     "metadata": {},
     "output_type": "execute_result"
    }
   ],
   "source": [
    "# Sanity check \n",
    "pca_result"
   ]
  },
  {
   "cell_type": "code",
   "execution_count": 21,
   "metadata": {
    "collapsed": true
   },
   "outputs": [],
   "source": [
    "pca_result_copy = pca_result\n",
    "counter = 3219\n",
    "new_row = np.array([range(0, counter)])\n",
    "new_col = np.transpose(new_row)\n",
    "all_data = np.append(pca_result, new_col, 1)"
   ]
  },
  {
   "cell_type": "code",
   "execution_count": 22,
   "metadata": {},
   "outputs": [
    {
     "data": {
      "text/plain": [
       "(3219, 3)"
      ]
     },
     "execution_count": 22,
     "metadata": {},
     "output_type": "execute_result"
    }
   ],
   "source": [
    "all_data.shape"
   ]
  },
  {
   "cell_type": "code",
   "execution_count": 23,
   "metadata": {},
   "outputs": [
    {
     "name": "stdout",
     "output_type": "stream",
     "text": [
      "Eigenvectors \n",
      "[[ -2.64077236e-01  -5.61307012e-02  -3.87917276e-03  -2.26267894e-01\n",
      "   -5.77858713e-02   2.10168334e-01  -5.02516072e-02  -3.00856050e-02\n",
      "   -6.64316611e-02   6.52901549e-02  -2.46749472e-02  -1.32488131e-02\n",
      "   -5.80415965e-02  -7.07106781e-01   4.74106146e-01   2.43807309e-01\n",
      "    1.67069518e-01]\n",
      " [ -2.64077236e-01  -5.61307012e-02  -3.87917276e-03  -2.26267894e-01\n",
      "   -5.77858713e-02   2.10168334e-01  -5.02516072e-02  -3.00856050e-02\n",
      "   -6.64316611e-02   6.52901549e-02  -2.46749472e-02  -1.32488131e-02\n",
      "   -5.80415965e-02   7.07106781e-01   4.74106146e-01   2.43807309e-01\n",
      "    1.67069518e-01]\n",
      " [ -2.51946360e-01  -6.06958153e-02   2.02984243e-01  -3.72987994e-01\n",
      "   -2.14788310e-01   2.93667129e-01  -7.15250985e-03  -3.07057336e-02\n",
      "    2.10739845e-01   1.34810112e-01   2.22809001e-01   9.39759608e-02\n",
      "    6.41384445e-02  -2.99480747e-13  -3.49013753e-02  -4.23243948e-01\n",
      "   -5.60018156e-01]\n",
      " [ -2.07940720e-01  -4.88869188e-01  -2.04535465e-01   1.48086382e-01\n",
      "    1.24769291e-02   8.26178255e-02  -1.14302645e-01   1.59489157e-01\n",
      "   -4.92378370e-01  -4.50874189e-01   3.06111176e-01  -2.34788946e-02\n",
      "    2.33034254e-01  -6.81464287e-14  -3.57676772e-02  -7.69472342e-02\n",
      "   -8.38779206e-02]\n",
      " [ -2.36421392e-01   3.04167114e-01  -2.41472041e-01   2.72302844e-01\n",
      "   -1.05339065e-01   1.79806968e-01  -8.80588318e-02  -8.25500607e-02\n",
      "   -2.74122549e-01   2.54564583e-01  -3.67383821e-01   4.73974835e-01\n",
      "    3.87661599e-01  -3.07002996e-14  -4.80488160e-02  -7.13084776e-02\n",
      "   -6.23662938e-02]\n",
      " [ -2.51831608e-01   1.60341524e-01  -2.66283143e-01  -1.21026869e-01\n",
      "   -1.14522895e-01  -8.41443719e-02   3.50559490e-01   2.82528986e-01\n",
      "   -1.81883958e-01  -2.62661502e-01  -3.92718335e-01  -5.58395717e-02\n",
      "   -5.33180259e-01  -1.63437127e-13  -4.60585146e-02  -1.17557410e-01\n",
      "   -2.06799328e-01]\n",
      " [ -2.29229854e-01   1.49062149e-01  -3.19553311e-01  -3.88359760e-01\n",
      "    6.75437209e-01  -2.10311662e-01  -2.57577391e-01  -2.68240043e-01\n",
      "   -5.51585018e-02   3.97336419e-02   5.39447976e-02  -4.93879297e-02\n",
      "   -9.05587984e-03  -1.06116304e-13  -1.21029978e-01  -7.57337433e-02\n",
      "   -5.58120216e-02]\n",
      " [ -2.62042401e-01  -9.13870014e-02   3.17837895e-02  -2.16911389e-01\n",
      "   -1.07994492e-01   3.59083491e-01  -2.96874429e-03   6.43513605e-02\n",
      "    5.82102769e-02   5.80859651e-02   1.32101576e-02   2.21443944e-02\n",
      "   -9.18798351e-02  -1.49647212e-13  -6.76944618e-01   1.28503457e-01\n",
      "    4.89419457e-01]\n",
      " [ -1.96723339e-01  -5.22517111e-01  -1.80619797e-01   1.78873865e-01\n",
      "   -1.71417576e-01  -2.94577742e-01  -4.69131939e-01   2.58960162e-02\n",
      "    3.17197115e-01   2.33099521e-01  -2.85175603e-01   3.04755799e-02\n",
      "   -2.12662197e-01  -3.92701031e-14  -1.59319275e-02  -3.84991624e-02\n",
      "   -5.07593437e-02]\n",
      " [ -2.31153807e-01   3.35440665e-01  -2.26233946e-01   2.90953876e-01\n",
      "   -2.46729362e-01  -1.04451443e-01  -8.10430269e-02   4.52637523e-02\n",
      "   -1.42746655e-01   3.86231446e-01   5.34588842e-01  -3.48719168e-01\n",
      "   -2.00955414e-01  -1.66313836e-14  -2.07365189e-02  -4.80797416e-03\n",
      "    5.60680589e-03]\n",
      " [ -2.52405511e-01   1.31305260e-01  -2.27268362e-01  -1.83740536e-01\n",
      "   -1.97047512e-01  -4.32948586e-01   2.05847171e-01   2.68371855e-01\n",
      "    4.22493302e-01  -2.02158058e-01   1.64004920e-01   1.43103276e-01\n",
      "    4.40195858e-01   1.25336254e-13   4.57687233e-02   9.33773570e-02\n",
      "    1.47102178e-01]\n",
      " [ -2.26998032e-01  -3.63796030e-01  -1.03725426e-01   2.77665871e-01\n",
      "    2.94793938e-01   5.58280200e-02   6.90540974e-01  -2.38156314e-01\n",
      "    1.48816802e-01   2.80261909e-01   5.27771446e-02   7.71877203e-04\n",
      "    1.85928859e-02   1.41122956e-14   2.34195402e-02   2.74640566e-03\n",
      "   -1.73386133e-02]\n",
      " [ -2.41717810e-01   2.40963397e-01  -4.54058709e-02   4.12115529e-01\n",
      "    1.06382112e-01   3.61336048e-01  -1.69573571e-01  -2.09005553e-01\n",
      "    4.62796275e-01  -4.94242484e-01  -3.60184101e-02  -1.76952799e-01\n",
      "   -4.26917275e-02  -1.69258416e-14   4.60974368e-02   6.20070533e-03\n",
      "   -4.72988194e-02]\n",
      " [ -2.54683204e-01   3.23256585e-03   3.14153310e-01  -5.11123315e-02\n",
      "   -1.91408840e-01  -2.42178442e-01   4.28820161e-02  -3.18196300e-01\n",
      "   -1.77436864e-01  -3.61605065e-02  -2.75015601e-01  -4.68081279e-01\n",
      "    2.84524407e-01  -3.02698539e-13  -1.96429441e-01   3.49526491e-01\n",
      "   -2.57319316e-01]\n",
      " [ -2.51984828e-01   3.90920204e-02   3.58188869e-01   5.78423163e-02\n",
      "   -7.53825038e-02  -2.67052096e-01   2.33398443e-02  -2.56014217e-01\n",
      "   -1.35470010e-01  -1.13534073e-01  -4.84765510e-02   1.50124304e-03\n",
      "   -3.98805564e-02   3.85418571e-13   1.37015943e-01  -6.24734493e-01\n",
      "    4.64749111e-01]\n",
      " [ -2.46838044e-01   6.37066912e-02   4.01226333e-01   1.45821199e-01\n",
      "    9.56054664e-02  -2.36141396e-01  -4.10509040e-02  -5.68091569e-02\n",
      "   -6.00987273e-02  -1.18284601e-01   2.63900737e-01   5.74161290e-01\n",
      "   -3.24892213e-01  -1.61625064e-13  -7.99526268e-02   3.59360797e-01\n",
      "   -1.57971450e-01]\n",
      " [ -2.41242876e-01   5.85640464e-02   3.85151328e-01   1.59109055e-01\n",
      "    4.19730714e-01   3.83219386e-02  -7.83289670e-02   6.81113105e-01\n",
      "    2.01052896e-02   1.89412186e-01  -1.32035609e-01  -1.90991294e-01\n",
      "    1.48689336e-01   2.59374349e-14   3.76108245e-02  -5.50775078e-02\n",
      "   -1.65245079e-02]]\n",
      "\n",
      "Eigenvalues \n",
      "[  1.38728758e+01   1.43414825e+00   8.09721971e-01   4.59921762e-01\n",
      "   1.65236098e-01   7.88219097e-02   6.65770042e-02   5.52050477e-02\n",
      "   2.66369503e-02   1.77773618e-02   6.82076178e-03   4.62681077e-03\n",
      "   3.20852123e-03  -9.08687786e-17   8.95854201e-04   1.37171995e-03\n",
      "   1.43692939e-03]\n"
     ]
    }
   ],
   "source": [
    "# Reference Sebastian Raschka PCA in 3 simple steps\n",
    "eig_vals, eig_vecs = np.linalg.eig(cov_mat)\n",
    "\n",
    "print('Eigenvectors \\n%s' %eig_vecs)\n",
    "print('\\nEigenvalues \\n%s' %eig_vals)"
   ]
  },
  {
   "cell_type": "code",
   "execution_count": 24,
   "metadata": {},
   "outputs": [
    {
     "name": "stdout",
     "output_type": "stream",
     "text": [
      "Eigenvalues in descending order:\n",
      "13.8728758327\n",
      "1.43414824927\n",
      "0.809721971363\n",
      "0.459921761694\n",
      "0.165236098281\n",
      "0.0788219097132\n",
      "0.0665770042492\n",
      "0.0552050477126\n",
      "0.0266369502557\n",
      "0.0177773617848\n",
      "0.0068207617798\n",
      "0.00462681077359\n",
      "0.0032085212293\n",
      "0.00143692939056\n",
      "0.0013717199538\n",
      "0.000895854200614\n",
      "9.08687785789e-17\n"
     ]
    }
   ],
   "source": [
    "# Make a list of (eigenvalue, eigenvector) tuples\n",
    "eig_pairs = [(np.abs(eig_vals[i]), eig_vecs[:,i]) for i in range(len(eig_vals))]\n",
    "\n",
    "# Sort the (eigenvalue, eigenvector) tuples from high to low\n",
    "eig_pairs.sort(key=lambda x: x[0], reverse=True)\n",
    "\n",
    "# Visually confirm that the list is correctly sorted by decreasing eigenvalues\n",
    "print('Eigenvalues in descending order:')\n",
    "for i in eig_pairs:\n",
    "    print(i[0])"
   ]
  },
  {
   "cell_type": "code",
   "execution_count": 25,
   "metadata": {},
   "outputs": [
    {
     "name": "stdout",
     "output_type": "stream",
     "text": [
      "Matrix W:\n",
      " [[-0.26407724 -0.0561307 ]\n",
      " [-0.26407724 -0.0561307 ]\n",
      " [-0.25194636 -0.06069582]\n",
      " [-0.20794072 -0.48886919]\n",
      " [-0.23642139  0.30416711]\n",
      " [-0.25183161  0.16034152]\n",
      " [-0.22922985  0.14906215]\n",
      " [-0.2620424  -0.091387  ]\n",
      " [-0.19672334 -0.52251711]\n",
      " [-0.23115381  0.33544066]\n",
      " [-0.25240551  0.13130526]\n",
      " [-0.22699803 -0.36379603]\n",
      " [-0.24171781  0.2409634 ]\n",
      " [-0.2546832   0.00323257]\n",
      " [-0.25198483  0.03909202]\n",
      " [-0.24683804  0.06370669]\n",
      " [-0.24124288  0.05856405]]\n"
     ]
    }
   ],
   "source": [
    "matrix_w = np.hstack((eig_pairs[0][1].reshape(17,1),\n",
    "                      eig_pairs[1][1].reshape(17,1)))\n",
    "\n",
    "print('Matrix W:\\n', matrix_w)"
   ]
  },
  {
   "cell_type": "code",
   "execution_count": 26,
   "metadata": {},
   "outputs": [
    {
     "data": {
      "text/plain": [
       "(3219, 2)"
      ]
     },
     "execution_count": 26,
     "metadata": {},
     "output_type": "execute_result"
    }
   ],
   "source": [
    "Y = scaled_housing.dot(matrix_w)\n",
    "Y.shape"
   ]
  },
  {
   "cell_type": "code",
   "execution_count": 27,
   "metadata": {},
   "outputs": [
    {
     "data": {
      "image/png": "[encoded data removed]",
      "text/plain": [
       "<matplotlib.figure.Figure at 0x111f285f8>"
      ]
     },
     "metadata": {},
     "output_type": "display_data"
    }
   ],
   "source": [
    "plt.figure(figsize=(6, 4))\n",
    "plt.scatter(Y[:,0],Y[:,1],c='green', label = 'Where To Live')\n",
    "plt.xlabel('Principal Component 1')\n",
    "plt.ylabel('Principal Component 2')\n",
    "plt.legend(loc='lower center')\n",
    "plt.tight_layout()\n",
    "plt.show()"
   ]
  },
  {
   "cell_type": "code",
   "execution_count": 28,
   "metadata": {},
   "outputs": [
    {
     "data": {
      "text/plain": [
       "(3219, 2)"
      ]
     },
     "execution_count": 28,
     "metadata": {},
     "output_type": "execute_result"
    }
   ],
   "source": [
    "Y.shape"
   ]
  },
  {
   "cell_type": "code",
   "execution_count": 36,
   "metadata": {},
   "outputs": [
    {
     "data": {
      "text/plain": [
       "array([[  5.63962570e-01,  -7.16081724e-02,   0.00000000e+00],\n",
       "       [ -2.40306717e-01,  -2.44640693e-01,   1.00000000e+00],\n",
       "       [  6.51368587e-01,  -1.77057917e-01,   2.00000000e+00],\n",
       "       ..., \n",
       "       [  5.92246647e-01,   2.16085422e-01,   3.21600000e+03],\n",
       "       [  3.96306368e-01,   2.32219274e-01,   3.21700000e+03],\n",
       "       [  5.04092769e-01,   1.69241339e-01,   3.21800000e+03]])"
      ]
     },
     "execution_count": 36,
     "metadata": {},
     "output_type": "execute_result"
    }
   ],
   "source": [
    "Y_new = np.append(Y, new_col, 1)\n",
    "Y_new"
   ]
  },
  {
   "cell_type": "code",
   "execution_count": 30,
   "metadata": {
    "collapsed": true
   },
   "outputs": [],
   "source": [
    "Y_sorted = sorted(Y_new,key=lambda x: x[0])"
   ]
  },
  {
   "cell_type": "code",
   "execution_count": 31,
   "metadata": {},
   "outputs": [
    {
     "data": {
      "text/plain": [
       "[array([-124.63896279,   23.36851952,  202.        ]),\n",
       " array([ -65.82129571,  -22.56011007,  607.        ]),\n",
       " array([  -41.22018455,    -7.82796145,  2620.        ]),\n",
       " array([ -39.31646677,   13.87892562,  213.        ]),\n",
       " array([ -34.95667836,   16.78261455,  226.        ]),\n",
       " array([ -32.63316218,    6.23283491,  220.        ]),\n",
       " array([ -3.18685472e+01,   1.44054499e+00,   1.86500000e+03]),\n",
       " array([ -28.8377182 ,    0.87591333,  101.        ]),\n",
       " array([  -28.01606058,   -12.65543785,  1848.        ]),\n",
       " array([ -26.11147746,    6.23629989,  184.        ])]"
      ]
     },
     "execution_count": 31,
     "metadata": {},
     "output_type": "execute_result"
    }
   ],
   "source": [
    "Y_sorted[:10]"
   ]
  },
  {
   "cell_type": "code",
   "execution_count": 32,
   "metadata": {},
   "outputs": [
    {
     "name": "stdout",
     "output_type": "stream",
     "text": [
      "Rank, County, Statecode, State\n",
      "1 Los Angeles County 6 -California\n",
      "2 Cook County 17 Illinois\n",
      "3 Harris County 48 Texas\n",
      "4 Orange County 6 -California\n",
      "5 Santa Clara County 6 -California\n",
      "6 San Diego County 6 -California\n",
      "7 Queens County 36 -New York\n",
      "8 Maricopa County 4 Arizona\n",
      "9 Kings County 36 New York\n",
      "10 Alameda County 6 -California\n"
     ]
    }
   ],
   "source": [
    "print (\"TOP 10 in ARRAY Y_sorted\")\n",
    "print (\"Rank, County, Statecode, State\")\n",
    "print (\"1\", housing.iloc[202].NAME, housing.iloc[202].state, \"-California\")\n",
    "print (\"2\", housing.iloc[607].NAME, housing.iloc[607].state, \"Illinois\")\n",
    "print (\"3\", housing.iloc[2620].NAME, housing.iloc[2620].state, \"Texas\")\n",
    "print (\"4\", housing.iloc[213].NAME, housing.iloc[213].state, \"-California\")\n",
    "print (\"5\", housing.iloc[226].NAME, housing.iloc[226].state, \"-California\")\n",
    "print (\"6\", housing.iloc[220].NAME, housing.iloc[220].state, \"-California\")\n",
    "print (\"7\", housing.iloc[1865].NAME, housing.iloc[1865].state, \"-New York\")\n",
    "print (\"8\", housing.iloc[101].NAME, housing.iloc[101].state, \"Arizona\")\n",
    "print (\"9\", housing.iloc[1848].NAME, housing.iloc[1848].state, \"New York\")\n",
    "print (\"10\", housing.iloc[184].NAME, housing.iloc[184].state, \"-California\")\n"
   ]
  },
  {
   "cell_type": "code",
   "execution_count": 33,
   "metadata": {},
   "outputs": [
    {
     "data": {
      "text/plain": [
       "[array([  9.13930688e-01,   1.53171827e-01,   1.73600000e+03]),\n",
       " array([  9.14051924e-01,   1.53240124e-01,   1.70800000e+03]),\n",
       " array([  9.14094432e-01,   1.53658393e-01,   1.62900000e+03]),\n",
       " array([  9.14611740e-01,   1.53355691e-01,   1.65500000e+03]),\n",
       " array([  9.14702662e-01,   1.54193001e-01,   2.65000000e+03]),\n",
       " array([  9.14880549e-01,   1.53427734e-01,   1.70900000e+03]),\n",
       " array([  9.15201181e-01,   1.53916983e-01,   2.65400000e+03]),\n",
       " array([  9.15227479e-01,   1.53490790e-01,   1.65300000e+03]),\n",
       " array([  9.16320334e-01,   1.54129311e-01,   5.45000000e+02]),\n",
       " array([  9.16845689e-01,   1.53914020e-01,   2.67000000e+03])]"
      ]
     },
     "execution_count": 33,
     "metadata": {},
     "output_type": "execute_result"
    }
   ],
   "source": [
    "Y_sorted[-10:]"
   ]
  },
  {
   "cell_type": "code",
   "execution_count": 34,
   "metadata": {},
   "outputs": [
    {
     "name": "stdout",
     "output_type": "stream",
     "text": [
      "Rank, County, Statecode, State\n",
      "3210 Thomas County 31 -Nebraska\n",
      "3211 Loup County 31 -Nebraska\n",
      "3212 Petroleum County 30 -Montana\n",
      "3213 Blaine County 31 -Nebraska\n",
      "3214 Kenedy County 48 -Texas\n",
      "3215 McPherson County 31 -Nebraska\n",
      "3216 King County 48 -Texas\n",
      "3217 Arthur County 31 -Nebraska\n",
      "3218 Kalawao County 15 -Hawaii\n",
      "3219 Loving County 48 -Texas\n"
     ]
    }
   ],
   "source": [
    "print (\"BOTTOM 10 in ARRAY Y_sorted\")\n",
    "print (\"Rank, County, Statecode, State\")\n",
    "print (\"3210\", housing.iloc[1736].NAME, housing.iloc[1736].state, \"-Nebraska\")\n",
    "print (\"3211\", housing.iloc[1708].NAME, housing.iloc[1708].state, \"-Nebraska\")\n",
    "print (\"3212\", housing.iloc[1629].NAME, housing.iloc[1629].state, \"-Montana\")\n",
    "print (\"3213\", housing.iloc[1655].NAME, housing.iloc[1655].state, \"-Nebraska\")\n",
    "print (\"3214\", housing.iloc[2650].NAME, housing.iloc[2650].state, \"-Texas\")\n",
    "print (\"3215\", housing.iloc[1709].NAME, housing.iloc[1709].state, \"-Nebraska\")\n",
    "print (\"3216\", housing.iloc[2654].NAME, housing.iloc[2654].state, \"-Texas\")\n",
    "print (\"3217\", housing.iloc[1653].NAME, housing.iloc[1653].state, \"-Nebraska\")\n",
    "print (\"3218\", housing.iloc[545].NAME, housing.iloc[545].state, \"-Hawaii\")\n",
    "print (\"3219\", housing.iloc[2670].NAME, housing.iloc[2670].state, \"-Texas\")\n",
    "\n"
   ]
  },
  {
   "cell_type": "code",
   "execution_count": null,
   "metadata": {
    "collapsed": true
   },
   "outputs": [],
   "source": []
  },
  {
   "cell_type": "code",
   "execution_count": null,
   "metadata": {
    "collapsed": true
   },
   "outputs": [],
   "source": []
  }
 ],
 "metadata": {
  "kernelspec": {
   "display_name": "Python 3",
   "language": "python",
   "name": "python3"
  },
  "language_info": {
   "codemirror_mode": {
    "name": "ipython",
    "version": 3
   },
   "file_extension": ".py",
   "mimetype": "text/x-python",
   "name": "python",
   "nbconvert_exporter": "python",
   "pygments_lexer": "ipython3",
   "version": "3.6.1"
  }
 },
 "nbformat": 4,
 "nbformat_minor": 2
}
