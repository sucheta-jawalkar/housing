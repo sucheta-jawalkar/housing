{
 "cells": [
  {
   "cell_type": "code",
   "execution_count": 1,
   "metadata": {
    "collapsed": true
   },
   "outputs": [],
   "source": [
    "import pandas as pd\n",
    "import sys\n",
    "from sklearn import preprocessing\n",
    "from sklearn.decomposition import PCA\n",
    "import numpy as np\n",
    "%matplotlib inline\n",
    "from matplotlib import pyplot as plt\n",
    "import gzip"
   ]
  },
  {
   "cell_type": "code",
   "execution_count": 2,
   "metadata": {},
   "outputs": [
    {
     "data": {
      "text/plain": [
       "(3219, 23)"
      ]
     },
     "execution_count": 2,
     "metadata": {},
     "output_type": "execute_result"
    }
   ],
   "source": [
    "housing = pd.read_csv(\"moredata.csv\")\n",
    "housing.shape"
   ]
  },
  {
   "cell_type": "code",
   "execution_count": 3,
   "metadata": {},
   "outputs": [
    {
     "data": {
      "text/html": [
       "<div>\n",
       "<style>\n",
       "    .dataframe thead tr:only-child th {\n",
       "        text-align: right;\n",
       "    }\n",
       "\n",
       "    .dataframe thead th {\n",
       "        text-align: left;\n",
       "    }\n",
       "\n",
       "    .dataframe tbody tr th {\n",
       "        vertical-align: top;\n",
       "    }\n",
       "</style>\n",
       "<table border=\"1\" class=\"dataframe\">\n",
       "  <thead>\n",
       "    <tr style=\"text-align: right;\">\n",
       "      <th></th>\n",
       "      <th>P001001</th>\n",
       "      <th>P006001</th>\n",
       "      <th>P006002</th>\n",
       "      <th>P006003</th>\n",
       "      <th>P006005</th>\n",
       "      <th>P006008</th>\n",
       "      <th>P007010</th>\n",
       "      <th>H011001</th>\n",
       "      <th>H011002</th>\n",
       "      <th>H011003</th>\n",
       "      <th>...</th>\n",
       "      <th>P148B009</th>\n",
       "      <th>P148D017</th>\n",
       "      <th>PCT038016</th>\n",
       "      <th>PCT038017</th>\n",
       "      <th>PCT038018</th>\n",
       "      <th>PCT038019</th>\n",
       "      <th>NAME</th>\n",
       "      <th>state</th>\n",
       "      <th>county</th>\n",
       "      <th>Unnamed: 22</th>\n",
       "    </tr>\n",
       "  </thead>\n",
       "  <tbody>\n",
       "    <tr>\n",
       "      <th>0</th>\n",
       "      <td>43671</td>\n",
       "      <td>43671</td>\n",
       "      <td>34960</td>\n",
       "      <td>7481</td>\n",
       "      <td>265</td>\n",
       "      <td>525</td>\n",
       "      <td>394</td>\n",
       "      <td>16003</td>\n",
       "      <td>12935</td>\n",
       "      <td>10761</td>\n",
       "      <td>...</td>\n",
       "      <td>32</td>\n",
       "      <td>0</td>\n",
       "      <td>240</td>\n",
       "      <td>53</td>\n",
       "      <td>53</td>\n",
       "      <td>44</td>\n",
       "      <td>Autauga County</td>\n",
       "      <td>1</td>\n",
       "      <td>1</td>\n",
       "      <td>NaN</td>\n",
       "    </tr>\n",
       "    <tr>\n",
       "      <th>1</th>\n",
       "      <td>140415</td>\n",
       "      <td>140415</td>\n",
       "      <td>122349</td>\n",
       "      <td>14233</td>\n",
       "      <td>535</td>\n",
       "      <td>1712</td>\n",
       "      <td>2341</td>\n",
       "      <td>55336</td>\n",
       "      <td>44036</td>\n",
       "      <td>39807</td>\n",
       "      <td>...</td>\n",
       "      <td>60</td>\n",
       "      <td>38</td>\n",
       "      <td>709</td>\n",
       "      <td>316</td>\n",
       "      <td>386</td>\n",
       "      <td>433</td>\n",
       "      <td>Baldwin County</td>\n",
       "      <td>1</td>\n",
       "      <td>3</td>\n",
       "      <td>NaN</td>\n",
       "    </tr>\n",
       "    <tr>\n",
       "      <th>2</th>\n",
       "      <td>29038</td>\n",
       "      <td>29038</td>\n",
       "      <td>14909</td>\n",
       "      <td>13487</td>\n",
       "      <td>30</td>\n",
       "      <td>219</td>\n",
       "      <td>509</td>\n",
       "      <td>10409</td>\n",
       "      <td>7615</td>\n",
       "      <td>4720</td>\n",
       "      <td>...</td>\n",
       "      <td>9</td>\n",
       "      <td>0</td>\n",
       "      <td>79</td>\n",
       "      <td>23</td>\n",
       "      <td>43</td>\n",
       "      <td>30</td>\n",
       "      <td>Barbour County</td>\n",
       "      <td>1</td>\n",
       "      <td>5</td>\n",
       "      <td>NaN</td>\n",
       "    </tr>\n",
       "    <tr>\n",
       "      <th>3</th>\n",
       "      <td>20826</td>\n",
       "      <td>20826</td>\n",
       "      <td>15928</td>\n",
       "      <td>4632</td>\n",
       "      <td>12</td>\n",
       "      <td>119</td>\n",
       "      <td>181</td>\n",
       "      <td>7421</td>\n",
       "      <td>5951</td>\n",
       "      <td>4958</td>\n",
       "      <td>...</td>\n",
       "      <td>2</td>\n",
       "      <td>0</td>\n",
       "      <td>50</td>\n",
       "      <td>6</td>\n",
       "      <td>8</td>\n",
       "      <td>6</td>\n",
       "      <td>Bibb County</td>\n",
       "      <td>1</td>\n",
       "      <td>7</td>\n",
       "      <td>NaN</td>\n",
       "    </tr>\n",
       "    <tr>\n",
       "      <th>4</th>\n",
       "      <td>51024</td>\n",
       "      <td>51024</td>\n",
       "      <td>48098</td>\n",
       "      <td>563</td>\n",
       "      <td>114</td>\n",
       "      <td>552</td>\n",
       "      <td>2629</td>\n",
       "      <td>19265</td>\n",
       "      <td>16084</td>\n",
       "      <td>15625</td>\n",
       "      <td>...</td>\n",
       "      <td>0</td>\n",
       "      <td>7</td>\n",
       "      <td>177</td>\n",
       "      <td>59</td>\n",
       "      <td>41</td>\n",
       "      <td>15</td>\n",
       "      <td>Blount County</td>\n",
       "      <td>1</td>\n",
       "      <td>9</td>\n",
       "      <td>NaN</td>\n",
       "    </tr>\n",
       "  </tbody>\n",
       "</table>\n",
       "<p>5 rows × 23 columns</p>\n",
       "</div>"
      ],
      "text/plain": [
       "   P001001  P006001  P006002  P006003  P006005  P006008  P007010  H011001  \\\n",
       "0    43671    43671    34960     7481      265      525      394    16003   \n",
       "1   140415   140415   122349    14233      535     1712     2341    55336   \n",
       "2    29038    29038    14909    13487       30      219      509    10409   \n",
       "3    20826    20826    15928     4632       12      119      181     7421   \n",
       "4    51024    51024    48098      563      114      552     2629    19265   \n",
       "\n",
       "   H011002  H011003     ...      P148B009  P148D017  PCT038016  PCT038017  \\\n",
       "0    12935    10761     ...            32         0        240         53   \n",
       "1    44036    39807     ...            60        38        709        316   \n",
       "2     7615     4720     ...             9         0         79         23   \n",
       "3     5951     4958     ...             2         0         50          6   \n",
       "4    16084    15625     ...             0         7        177         59   \n",
       "\n",
       "   PCT038018  PCT038019            NAME  state  county Unnamed: 22  \n",
       "0         53         44  Autauga County      1       1         NaN  \n",
       "1        386        433  Baldwin County      1       3         NaN  \n",
       "2         43         30  Barbour County      1       5         NaN  \n",
       "3          8          6     Bibb County      1       7         NaN  \n",
       "4         41         15   Blount County      1       9         NaN  \n",
       "\n",
       "[5 rows x 23 columns]"
      ]
     },
     "execution_count": 3,
     "metadata": {},
     "output_type": "execute_result"
    }
   ],
   "source": [
    "housing.head(5)"
   ]
  },
  {
   "cell_type": "code",
   "execution_count": 4,
   "metadata": {
    "collapsed": true
   },
   "outputs": [],
   "source": [
    "# County, state data\n",
    "# Create 10 column data frame to select white race, income > 100K, married with children under 18\n",
    "# White homeowner \n",
    "# no specifications of education \n",
    "housing_edit = housing[['P001001', 'P006001', 'P006002','H011002', 'H011003', 'P148D017','PCT038016','PCT038017','PCT038018','PCT038019']]\n",
    "# Perform mean normalization and feature scaling\n",
    "scaler = preprocessing.StandardScaler()"
   ]
  },
  {
   "cell_type": "code",
   "execution_count": 5,
   "metadata": {
    "collapsed": true
   },
   "outputs": [],
   "source": [
    "scaled_housing = scaler.fit_transform(housing_edit)"
   ]
  },
  {
   "cell_type": "code",
   "execution_count": 6,
   "metadata": {},
   "outputs": [
    {
     "data": {
      "text/plain": [
       "(10, 10)"
      ]
     },
     "execution_count": 6,
     "metadata": {},
     "output_type": "execute_result"
    }
   ],
   "source": [
    "cov_mat = np.cov(scaled_housing.T)\n",
    "cov_mat.shape"
   ]
  },
  {
   "cell_type": "code",
   "execution_count": 7,
   "metadata": {
    "collapsed": true
   },
   "outputs": [],
   "source": [
    "U, s, V = np.linalg.svd(cov_mat, full_matrices=True)"
   ]
  },
  {
   "cell_type": "code",
   "execution_count": 8,
   "metadata": {
    "collapsed": true
   },
   "outputs": [],
   "source": [
    "pca = PCA(n_components = 2)"
   ]
  },
  {
   "cell_type": "code",
   "execution_count": 9,
   "metadata": {
    "collapsed": true
   },
   "outputs": [],
   "source": [
    "pca_result = pca.fit(scaled_housing).fit_transform(scaled_housing)"
   ]
  },
  {
   "cell_type": "code",
   "execution_count": 10,
   "metadata": {},
   "outputs": [
    {
     "name": "stdout",
     "output_type": "stream",
     "text": [
      "[ 0.91486412  0.04808495]\n"
     ]
    }
   ],
   "source": [
    "print(pca.explained_variance_ratio_)"
   ]
  },
  {
   "cell_type": "code",
   "execution_count": 11,
   "metadata": {},
   "outputs": [
    {
     "name": "stdout",
     "output_type": "stream",
     "text": [
      "[ 171.60849641   39.3427824 ]\n"
     ]
    }
   ],
   "source": [
    "print(pca.singular_values_) "
   ]
  },
  {
   "cell_type": "code",
   "execution_count": 12,
   "metadata": {},
   "outputs": [
    {
     "data": {
      "text/plain": [
       "(3219, 2)"
      ]
     },
     "execution_count": 12,
     "metadata": {},
     "output_type": "execute_result"
    }
   ],
   "source": [
    "pca_result.shape"
   ]
  },
  {
   "cell_type": "code",
   "execution_count": 13,
   "metadata": {},
   "outputs": [
    {
     "data": {
      "text/plain": [
       "array([[-0.52902281, -0.00318829],\n",
       "       [ 0.52946652, -0.45044374],\n",
       "       [-0.70448432,  0.11768623],\n",
       "       ..., \n",
       "       [-0.72895009,  0.08801429],\n",
       "       [-0.66363388,  0.03543718],\n",
       "       [-0.58484498, -0.03485941]])"
      ]
     },
     "execution_count": 13,
     "metadata": {},
     "output_type": "execute_result"
    }
   ],
   "source": [
    "# Sanity check \n",
    "pca_result"
   ]
  },
  {
   "cell_type": "code",
   "execution_count": 14,
   "metadata": {
    "collapsed": true
   },
   "outputs": [],
   "source": [
    "pca_result_copy = pca_result\n",
    "counter = 3219\n",
    "new_row = np.array([range(0, counter)])\n",
    "new_col = np.transpose(new_row)\n",
    "all_data = np.append(pca_result, new_col, 1)"
   ]
  },
  {
   "cell_type": "code",
   "execution_count": 15,
   "metadata": {},
   "outputs": [
    {
     "data": {
      "text/plain": [
       "(3219, 3)"
      ]
     },
     "execution_count": 15,
     "metadata": {},
     "output_type": "execute_result"
    }
   ],
   "source": [
    "all_data.shape"
   ]
  },
  {
   "cell_type": "code",
   "execution_count": 16,
   "metadata": {},
   "outputs": [
    {
     "name": "stdout",
     "output_type": "stream",
     "text": [
      "Eigenvectors \n",
      "[[  3.21133982e-01  -1.73471680e-01  -3.73181410e-01  -1.77492130e-01\n",
      "    3.79776187e-01   3.44980382e-02  -9.27537310e-02  -7.07106781e-01\n",
      "   -2.02654590e-01   3.03400111e-02]\n",
      " [  3.21133982e-01  -1.73471680e-01  -3.73181410e-01  -1.77492130e-01\n",
      "    3.79776187e-01   3.44980382e-02  -9.27537310e-02   7.07106781e-01\n",
      "   -2.02654590e-01   3.03400111e-02]\n",
      " [  3.21770041e-01  -3.08756381e-01  -3.17593702e-02  -6.88683683e-02\n",
      "   -1.70404908e-01  -7.21763996e-01  -8.73089438e-02  -2.95022266e-13\n",
      "    4.86977263e-01  -2.51241593e-02]\n",
      " [  3.21641866e-01  -3.11743925e-01  -3.91623637e-02   3.93905476e-02\n",
      "   -2.05552420e-01   6.83498358e-01   1.05923660e-02  -3.36574793e-13\n",
      "    5.33420334e-01  -4.69646244e-02]\n",
      " [  3.14651504e-01  -3.90383247e-01   1.86626663e-01   6.11579357e-02\n",
      "   -5.63952535e-01   1.24952050e-03   2.30818079e-02   3.89955606e-13\n",
      "   -6.22946946e-01   5.81881116e-02]\n",
      " [  2.83406098e-01   5.99356763e-01  -5.79919502e-01   1.93790922e-01\n",
      "   -4.24138597e-01  -3.25764356e-02   7.29864630e-02   1.79380926e-15\n",
      "   -2.18062499e-03  -1.74456955e-02]\n",
      " [  3.25923644e-01   2.77925500e-02   2.02887593e-01   4.18854940e-01\n",
      "    2.98745978e-01  -7.10723862e-02   5.95730540e-01   1.83846618e-14\n",
      "   -4.37476248e-02  -4.74646545e-01]\n",
      " [  3.23369196e-01   1.68598518e-01   2.74532127e-01   3.51720841e-01\n",
      "    2.07913829e-01  -9.87998575e-03   1.25759103e-03  -3.56962178e-14\n",
      "    5.98675242e-02   7.88048214e-01]\n",
      " [  3.17981746e-01   2.91559903e-01   3.49516006e-01   1.07521323e-01\n",
      "    8.35868280e-02   4.23697418e-02  -7.24774355e-01   3.03460853e-14\n",
      "   -4.47290596e-02  -3.79575620e-01]\n",
      " [  3.09072234e-01   3.48522170e-01   3.30303013e-01  -7.60720422e-01\n",
      "   -5.33889222e-02   3.87249458e-02   2.98335924e-01  -1.56635945e-14\n",
      "    2.47347957e-02   3.52828397e-02]]\n",
      "\n",
      "Eigenvalues \n",
      "[  9.15148416e+00   4.80998921e-01   2.47163116e-01   6.93819287e-02\n",
      "   3.73463644e-02   9.83152048e-03   4.98525301e-03   3.13271276e-17\n",
      "   5.30553172e-04   1.38569916e-03]\n"
     ]
    }
   ],
   "source": [
    "# Reference Sebastian Raschka PCA in 3 simple steps\n",
    "eig_vals, eig_vecs = np.linalg.eig(cov_mat)\n",
    "\n",
    "print('Eigenvectors \\n%s' %eig_vecs)\n",
    "print('\\nEigenvalues \\n%s' %eig_vals)"
   ]
  },
  {
   "cell_type": "code",
   "execution_count": 17,
   "metadata": {},
   "outputs": [
    {
     "name": "stdout",
     "output_type": "stream",
     "text": [
      "Eigenvalues in descending order:\n",
      "9.15148416415\n",
      "0.480998920715\n",
      "0.247163116467\n",
      "0.0693819286742\n",
      "0.0373463643786\n",
      "0.00983152047516\n",
      "0.00498525301059\n",
      "0.00138569915683\n",
      "0.000530553172462\n",
      "3.13271275544e-17\n"
     ]
    }
   ],
   "source": [
    "# Make a list of (eigenvalue, eigenvector) tuples\n",
    "eig_pairs = [(np.abs(eig_vals[i]), eig_vecs[:,i]) for i in range(len(eig_vals))]\n",
    "\n",
    "# Sort the (eigenvalue, eigenvector) tuples from high to low\n",
    "eig_pairs.sort(key=lambda x: x[0], reverse=True)\n",
    "\n",
    "# Visually confirm that the list is correctly sorted by decreasing eigenvalues\n",
    "print('Eigenvalues in descending order:')\n",
    "for i in eig_pairs:\n",
    "    print(i[0])"
   ]
  },
  {
   "cell_type": "code",
   "execution_count": 18,
   "metadata": {},
   "outputs": [
    {
     "name": "stdout",
     "output_type": "stream",
     "text": [
      "Matrix W:\n",
      " [[ 0.32113398 -0.17347168]\n",
      " [ 0.32113398 -0.17347168]\n",
      " [ 0.32177004 -0.30875638]\n",
      " [ 0.32164187 -0.31174393]\n",
      " [ 0.3146515  -0.39038325]\n",
      " [ 0.2834061   0.59935676]\n",
      " [ 0.32592364  0.02779255]\n",
      " [ 0.3233692   0.16859852]\n",
      " [ 0.31798175  0.2915599 ]\n",
      " [ 0.30907223  0.34852217]]\n"
     ]
    }
   ],
   "source": [
    "matrix_w = np.hstack((eig_pairs[0][1].reshape(10,1),\n",
    "                      eig_pairs[1][1].reshape(10,1)))\n",
    "\n",
    "print('Matrix W:\\n', matrix_w)"
   ]
  },
  {
   "cell_type": "code",
   "execution_count": 19,
   "metadata": {},
   "outputs": [
    {
     "data": {
      "text/plain": [
       "(3219, 2)"
      ]
     },
     "execution_count": 19,
     "metadata": {},
     "output_type": "execute_result"
    }
   ],
   "source": [
    "Y = scaled_housing.dot(matrix_w)\n",
    "Y.shape"
   ]
  },
  {
   "cell_type": "code",
   "execution_count": 20,
   "metadata": {},
   "outputs": [
    {
     "data": {
      "image/png": "[encoded data removed]",
      "text/plain": [
       "<matplotlib.figure.Figure at 0x118af1668>"
      ]
     },
     "metadata": {},
     "output_type": "display_data"
    }
   ],
   "source": [
    "plt.figure(figsize=(6, 4))\n",
    "plt.scatter(Y[:,0],Y[:,1],c='green', label = 'Where To Live')\n",
    "plt.xlabel('Principal Component 1')\n",
    "plt.ylabel('Principal Component 2')\n",
    "plt.legend(loc='lower center')\n",
    "plt.tight_layout()\n",
    "plt.show()"
   ]
  },
  {
   "cell_type": "code",
   "execution_count": 21,
   "metadata": {
    "collapsed": true
   },
   "outputs": [],
   "source": [
    "Y_new = np.append(Y, new_col, 1)"
   ]
  },
  {
   "cell_type": "code",
   "execution_count": 22,
   "metadata": {
    "collapsed": true
   },
   "outputs": [],
   "source": [
    "Y_sorted = sorted(Y_new,key=lambda x: x[0])"
   ]
  },
  {
   "cell_type": "code",
   "execution_count": 23,
   "metadata": {},
   "outputs": [
    {
     "data": {
      "text/plain": [
       "[array([ -9.04737905e-01,   2.37540043e-01,   5.45000000e+02]),\n",
       " array([ -9.04531598e-01,   2.37217760e-01,   2.67000000e+03]),\n",
       " array([ -9.03168421e-01,   2.36149034e-01,   2.65400000e+03]),\n",
       " array([ -9.03086278e-01,   2.36119642e-01,   2.65000000e+03]),\n",
       " array([ -9.01842093e-01,   2.34803155e-01,   1.65300000e+03]),\n",
       " array([ -9.01271887e-01,   2.34303103e-01,   1.70900000e+03]),\n",
       " array([ -9.00816187e-01,   2.33874594e-01,   1.65500000e+03]),\n",
       " array([ -0.90069607,   0.23492684,  92.        ]),\n",
       " array([ -8.99996179e-01,   2.35319584e-01,   1.62900000e+03]),\n",
       " array([ -8.99442432e-01,   2.32539222e-01,   1.70800000e+03])]"
      ]
     },
     "execution_count": 23,
     "metadata": {},
     "output_type": "execute_result"
    }
   ],
   "source": [
    "Y_sorted[:10]"
   ]
  },
  {
   "cell_type": "code",
   "execution_count": 27,
   "metadata": {},
   "outputs": [
    {
     "name": "stdout",
     "output_type": "stream",
     "text": [
      "TOP 10 in ARRAY Y_sorted\n",
      "Rank, County, Statecode, State\n",
      "1 Kalawao County 15 -Hawaii\n",
      "2 Loving County 48 Texas\n",
      "3 King County 48 Texas\n",
      "4 Kenedy County 48 -Texas\n",
      "5 Arthur County 31 -Nebraska\n",
      "6 McPherson County 31 -Nebraska\n",
      "7 Blaine County 31 -Nebraska\n",
      "8 Yakutat City and Borough 2 Alaska\n",
      "9 Petroleum County 30 Montana\n",
      "10 Loup County 31 -Nebraska\n"
     ]
    }
   ],
   "source": [
    "print (\"TOP 10 in ARRAY Y_sorted\")\n",
    "print (\"Rank, County, Statecode, State\")\n",
    "print (\"1\", housing.iloc[545].NAME, housing.iloc[545].state, \"-Hawaii\")\n",
    "print (\"2\", housing.iloc[2670].NAME, housing.iloc[2670].state, \"Texas\")\n",
    "print (\"3\", housing.iloc[2654].NAME, housing.iloc[2654].state, \"Texas\")\n",
    "print (\"4\", housing.iloc[2650].NAME, housing.iloc[2650].state, \"-Texas\")\n",
    "print (\"5\", housing.iloc[1653].NAME, housing.iloc[1653].state, \"-Nebraska\")\n",
    "print (\"6\", housing.iloc[1709].NAME, housing.iloc[1709].state, \"-Nebraska\")\n",
    "print (\"7\", housing.iloc[1655].NAME, housing.iloc[1655].state, \"-Nebraska\")\n",
    "print (\"8\", housing.iloc[92].NAME, housing.iloc[92].state, \"Alaska\")\n",
    "print (\"9\", housing.iloc[1629].NAME, housing.iloc[1629].state, \"Montana\")\n",
    "print (\"10\", housing.iloc[1708].NAME, housing.iloc[1708].state, \"-Nebraska\")"
   ]
  },
  {
   "cell_type": "code",
   "execution_count": 25,
   "metadata": {},
   "outputs": [
    {
     "data": {
      "text/plain": [
       "[array([   21.57412538,     2.89488058,  1854.        ]),\n",
       " array([  2.18797221e+01,   7.65010515e-01,   2.96800000e+03]),\n",
       " array([   22.6771852 ,     4.15713248,  1222.        ]),\n",
       " array([  27.89861212,   -2.24282684,  220.        ]),\n",
       " array([  29.77608209,   16.70806888,  226.        ]),\n",
       " array([  30.65109663,   -9.02851299,  101.        ]),\n",
       " array([  3.27746149e+01,  -2.29535823e+00,   2.62000000e+03]),\n",
       " array([  35.17974777,    4.14058852,  213.        ]),\n",
       " array([  52.38288983,   -3.81651404,  607.        ]),\n",
       " array([  85.8774682 ,    7.19822308,  202.        ])]"
      ]
     },
     "execution_count": 25,
     "metadata": {},
     "output_type": "execute_result"
    }
   ],
   "source": [
    "Y_sorted[-10:]"
   ]
  },
  {
   "cell_type": "code",
   "execution_count": 26,
   "metadata": {},
   "outputs": [
    {
     "name": "stdout",
     "output_type": "stream",
     "text": [
      "Rank, County, Statecode, State\n",
      "3210 Nassau County 36 -New York\n",
      "3211 King County 53 -Washington\n",
      "3212 Middlesex County 25 -Massachusetts\n",
      "3213 San Diego County 6 -California\n",
      "3214 Santa Clara County 6 -California\n",
      "3215 Maricopa County 4 -Arizona\n",
      "3216 Harris County 48 -Texas\n",
      "3217 Orange County 6 -California\n",
      "3218 Cook County 17 -Illinois\n",
      "3219 Los Angeles County 6 -California\n"
     ]
    }
   ],
   "source": [
    "print (\"BOTTOM 10 in ARRAY Y_sorted\")\n",
    "print (\"Rank, County, Statecode, State\")\n",
    "print (\"3210\", housing.iloc[1854].NAME, housing.iloc[1854].state, \"-New York\")\n",
    "print (\"3211\", housing.iloc[2968].NAME, housing.iloc[2968].state, \"-Washington\")\n",
    "print (\"3212\", housing.iloc[1222].NAME, housing.iloc[1222].state, \"-Massachusetts\")\n",
    "print (\"3213\", housing.iloc[220].NAME, housing.iloc[220].state, \"-California\")\n",
    "print (\"3214\", housing.iloc[226].NAME, housing.iloc[226].state, \"-California\")\n",
    "print (\"3215\", housing.iloc[101].NAME, housing.iloc[101].state, \"-Arizona\")\n",
    "print (\"3216\", housing.iloc[2620].NAME, housing.iloc[2620].state, \"-Texas\")\n",
    "print (\"3217\", housing.iloc[213].NAME, housing.iloc[213].state, \"-California\")\n",
    "print (\"3218\", housing.iloc[607].NAME, housing.iloc[607].state, \"-Illinois\")\n",
    "print (\"3219\", housing.iloc[202].NAME, housing.iloc[202].state, \"-California\")\n",
    "\n"
   ]
  },
  {
   "cell_type": "code",
   "execution_count": null,
   "metadata": {
    "collapsed": true
   },
   "outputs": [],
   "source": []
  }
 ],
 "metadata": {
  "kernelspec": {
   "display_name": "Python 3",
   "language": "python",
   "name": "python3"
  },
  "language_info": {
   "codemirror_mode": {
    "name": "ipython",
    "version": 3
   },
   "file_extension": ".py",
   "mimetype": "text/x-python",
   "name": "python",
   "nbconvert_exporter": "python",
   "pygments_lexer": "ipython3",
   "version": "3.6.1"
  }
 },
 "nbformat": 4,
 "nbformat_minor": 2
}
